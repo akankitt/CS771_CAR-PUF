{
  "cells": [
    {
      "cell_type": "code",
      "execution_count": 1,
      "metadata": {
        "id": "hhdpwdE1z5aU"
      },
      "outputs": [],
      "source": [
        "import numpy as np\n",
        "import time as tm"
      ]
    },
    {
      "cell_type": "code",
      "execution_count": 2,
      "metadata": {},
      "outputs": [],
      "source": [
        "from sklearn.svm import LinearSVC\n",
        "from sklearn.linear_model import LogisticRegression"
      ]
    },
    {
      "cell_type": "code",
      "execution_count": 3,
      "metadata": {},
      "outputs": [],
      "source": [
        "def my_fit( X_train, y_train ):\n",
        "################################\n",
        "#  Non Editable Region Ending  #\n",
        "################################\n",
        "\tfeat = my_map(X_train)\n",
        "\tmodel = LogisticRegression(penalty='l2', C=120, fit_intercept=True, max_iter=2500)\n",
        "\t# Use this method to train your model using training CRPs\n",
        "\t# X_train has 32 columns containing the challeenge bits\n",
        "\t# y_train contains the responses\n",
        "\tmodel.fit(feat, y_train)\n",
        "\tw = model.coef_[0]\n",
        "\tb = model.intercept_\n",
        "\t\n",
        "\t# THE RETURNED MODEL SHOULD BE A SINGLE VECTOR AND A BIAS TERM\n",
        "\t# If you do not wish to use a bias term, set it to 0\n",
        "\treturn w, b"
      ]
    },
    {
      "cell_type": "code",
      "execution_count": 4,
      "metadata": {},
      "outputs": [],
      "source": [
        "def my_map(X):\n",
        "################################\n",
        "#  Non Editable Region Ending  #\n",
        "################################\n",
        "\tX = np.hstack((X, np.ones((X.shape[0], 1))))\n",
        "\tX = 1 - 2 * X\n",
        "\t\n",
        "\tarr = []\n",
        "\tfor i in range(X.shape[0]):\n",
        "\t\ttemp = []\n",
        "\t\ttemp.append(X[i][-1])\n",
        "\t\tfor j in range(X.shape[1] - 2, -1, -1):\n",
        "\t\t\ttemp.append(X[i][j] * temp[-1])\n",
        "\t\ttemp.reverse()\n",
        "\t\tarr.append(np.array(temp))\n",
        "    \n",
        "\tarr = np.array(arr)\n",
        "\t\n",
        "\tfeat = []\n",
        "\tfor i in range(X.shape[0]):\n",
        "\t\tres = []\n",
        "\t\tfor j in range(X.shape[1]):\n",
        "\t\t\tfor k in range(j+1, X.shape[1]):\n",
        "\t\t\t\tres.append(arr[i][j] * arr[i][k])\n",
        "\t\tfeat.append(np.array(res))\n",
        "\n",
        "\tfeat = np.array(feat)\n",
        "\tfeat = np.hstack((feat, np.ones((feat.shape[0], 1))))\n",
        "\n",
        "\treturn feat\n",
        "\n",
        "\t# # Use this method to create features.\n",
        "\t# # It is likely that my_fit will internally call my_map to create features for train points"
      ]
    },
    {
      "cell_type": "code",
      "execution_count": 8,
      "metadata": {
        "id": "x0salcYbPVeY"
      },
      "outputs": [],
      "source": [
        "Z_trn = np.loadtxt( \"train.dat\" )\n",
        "Z_tst = np.loadtxt( \"test.dat\" )\n",
        "\n",
        "n_trials = 1\n",
        "\n",
        "d_size = 0\n",
        "t_train = 0\n",
        "t_map = 0\n",
        "acc = 0"
      ]
    },
    {
      "cell_type": "code",
      "execution_count": 9,
      "metadata": {
        "id": "hwn4Alu6Pz1u"
      },
      "outputs": [],
      "source": [
        "for t in range( n_trials ):\n",
        "\ttic = tm.perf_counter()\n",
        "\tw, b = my_fit( Z_trn[:, :-1], Z_trn[:,-1] )\n",
        "\ttoc = tm.perf_counter()\n",
        "\tt_train += toc - tic\n",
        "\n",
        "\td_size += w.shape[0]\n",
        "\n",
        "\ttic = tm.perf_counter()\n",
        "\tfeat = my_map( Z_tst[:, :-1] )\n",
        "\ttoc = tm.perf_counter()\n",
        "\tt_map += toc - tic\n",
        "\n",
        "\tscores = feat.dot( w ) + b\n",
        "\tpred = np.zeros_like( scores )\n",
        "\tpred[scores > 0] = 1\n",
        "\tacc += np.average( Z_tst[ :, -1 ] == pred )"
      ]
    },
    {
      "cell_type": "code",
      "execution_count": 10,
      "metadata": {
        "id": "ZVG4OM_PQ1EG"
      },
      "outputs": [],
      "source": [
        "d_size /= n_trials\n",
        "t_train /= n_trials\n",
        "t_map /= n_trials\n",
        "acc /= n_trials"
      ]
    },
    {
      "cell_type": "code",
      "execution_count": 11,
      "metadata": {
        "id": "XJEZypo7pQPE"
      },
      "outputs": [
        {
          "name": "stdout",
          "output_type": "stream",
          "text": [
            "529.0 22.673682630993426 4.0081934010086115 0.9932\n"
          ]
        }
      ],
      "source": [
        "print( d_size, t_train, t_map, acc )"
      ]
    }
  ],
  "metadata": {
    "colab": {
      "provenance": []
    },
    "kernelspec": {
      "display_name": "Python 3",
      "name": "python3"
    },
    "language_info": {
      "codemirror_mode": {
        "name": "ipython",
        "version": 3
      },
      "file_extension": ".py",
      "mimetype": "text/x-python",
      "name": "python",
      "nbconvert_exporter": "python",
      "pygments_lexer": "ipython3",
      "version": "3.11.5"
    }
  },
  "nbformat": 4,
  "nbformat_minor": 0
}
